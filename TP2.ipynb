{
 "cells": [
  {
   "cell_type": "markdown",
   "metadata": {},
   "source": [
    "#### <a style=\"color:#ae0000\" >$$Seblaoui Badreddine$$  $$2 DNI Groupe 2 $$        "
   ]
  },
  {
   "cell_type": "markdown",
   "metadata": {},
   "source": [
    "# <center style=\"color:#021E55\" >-- Compte Rendu TP2 Analyse Numérique --</center>"
   ]
  },
  {
   "cell_type": "markdown",
   "metadata": {},
   "source": [
    "> ###  <p style=\"color:#4287f5\" >Exercice 1"
   ]
  },
  {
   "cell_type": "markdown",
   "metadata": {},
   "source": [
    "## <p style=\"color:#028A93\">théoréme d'interpolation de lagrange :</p> \n",
    "\n",
    "<p>il existe p vérifiant</p>\n",
    "   $$\\left \\{\n",
    "   \\begin{array}{r c l}\n",
    "      p(x_0) \\hspace{0.2cm}=\\hspace{0.2cm} f(x_0)\\hspace{0.2cm} ∀ \\hspace{0.2cm}i\\hspace{0.2cm}=\\hspace{0.2cm}0,n \\\\\n",
    "      deg(p) ≥ N\n",
    "   \\end{array}\n",
    "   \\right. $$\n",
    "\n",
    "<p> ce polynome p s'appel le polynome dinterpolatin de lagrange , il est donne comme suit:</p>\n",
    "\n",
    "$p(x) =\\sum_{i=1}^N f(x_i) L_i(x) $. \n",
    "\n",
    "$L_i(x) = \\prod_{k=0}^N \\frac{x-x_k}{x_i-x_k} $."
   ]
  },
  {
   "cell_type": "markdown",
   "metadata": {},
   "source": [
    "\n",
    ">> ### <p style=\"color:#255;text-decoration: underline;\">Enoncé: </p>\n"
   ]
  },
  {
   "cell_type": "markdown",
   "metadata": {},
   "source": [
    "On considère le programme MATLAB suivant :\n",
    "``` octave\n",
    "function u=PR(x,y,c)\n",
    "S = y; \n",
    "n = length(x); \n",
    "for j=1:n\n",
    "    L = c-x; \n",
    "    for k=1:n\n",
    "        if (k == j)\n",
    "           L(k) = 1;\n",
    "        else\n",
    "           L(k) = L(k)/(x(j) - x(k));\n",
    "        end \n",
    "    end \n",
    "    S(j) = S(j)*prod(L); \n",
    "end \n",
    "u=sum(S); \n",
    "```"
   ]
  },
  {
   "cell_type": "markdown",
   "metadata": {},
   "source": [
    "## 1) Que renvoie la fonction PR lorsqu'on lui déclare  x=(x(1),x(2),...,x(n))x=(x(1),x(2),...,x(n))  et  y=(y(1),y(2),...,y(n))y=(y(1),y(2),...,y(n))  deux vecteurs de même longueur  nn  et  cc  un nombre réel."
   ]
  },
  {
   "cell_type": "markdown",
   "metadata": {},
   "source": [
    ">> ## <p style=\"color:#028A93\"> Version PYTHON :</p> "
   ]
  },
  {
   "cell_type": "code",
   "execution_count": 248,
   "metadata": {},
   "outputs": [],
   "source": [
    "import numpy as np\n",
    "def PR(x,y,c):\n",
    "    S = y.copy()\n",
    "    #S = y\n",
    "    n = len(x) \n",
    "    for j in range(0, n):\n",
    "        L = [c - a for a in x]\n",
    "       # L = c-x; \n",
    "        for k in range(0,n) :\n",
    "            if (k == j):\n",
    "                L[k] = 1\n",
    "            else:\n",
    "                L[k] = L[k]/(x[j] - x[k])\n",
    "        S[j] = S[j]*np.prod(L)\n",
    "    return(np.sum(S))"
   ]
  },
  {
   "cell_type": "code",
   "execution_count": 249,
   "metadata": {},
   "outputs": [
    {
     "name": "stdout",
     "output_type": "stream",
     "text": [
      "-1.0\n",
      "0.0\n",
      "2.0\n",
      "1.0\n"
     ]
    }
   ],
   "source": [
    "X=[1,2,3,4]\n",
    "Y=[-1,0,2,1]\n",
    "for i in X:\n",
    "    print(PR(X,Y,i))"
   ]
  },
  {
   "cell_type": "markdown",
   "metadata": {},
   "source": [
    "## 2) Que contient le vecteur  LL  après la fin de la boucle  kk .\n"
   ]
  },
  {
   "cell_type": "code",
   "execution_count": 250,
   "metadata": {},
   "outputs": [
    {
     "name": "stdout",
     "output_type": "stream",
     "text": [
      "a la fin de boucle k de  c = 1 , le vecteur L est [0.0, -0.5, -2.0, 1] :\n",
      "a la fin de boucle k de  c = 2 , le vecteur L est [0.3333333333333333, 0.0, -1.0, 1] :\n",
      "a la fin de boucle k de  c = 3 , le vecteur L est [0.6666666666666666, 0.5, 0.0, 1] :\n",
      "a la fin de boucle k de  c = 4 , le vecteur L est [1.0, 1.0, 1.0, 1] :\n"
     ]
    }
   ],
   "source": [
    "x=[1,2,3,4]\n",
    "y=[-1,0,2,1]\n",
    "for c in X:\n",
    "    S = y.copy()\n",
    "    #S = y\n",
    "    n = len(x) \n",
    "    for j in range(0, n):\n",
    "        L = [c - a for a in x]\n",
    "       # L = c-x; \n",
    "        for k in range(0,n) :\n",
    "            if (k == j):\n",
    "                L[k] = 1\n",
    "            else:\n",
    "                L[k] = L[k]/(x[j] - x[k])\n",
    "        S[j] = S[j]*np.prod(L)\n",
    "    print(\"a la fin de boucle k de  c = {} , le vecteur L est {} :\".format(c,L))\n",
    "#    return(np.sum(S))"
   ]
  },
  {
   "cell_type": "markdown",
   "metadata": {},
   "source": [
    "## 3) Utiliser cette fonction pour dessiner le graph du polynôme de Lagrange  de la fonction $f(x) = \\dfrac{1}{1 + x^2}$ aux points $x=[-1:0.1:1]$."
   ]
  },
  {
   "cell_type": "code",
   "execution_count": 251,
   "metadata": {},
   "outputs": [
    {
     "data": {
      "text/plain": [
       "[<matplotlib.lines.Line2D at 0xb1fb9b0>]"
      ]
     },
     "execution_count": 251,
     "metadata": {},
     "output_type": "execute_result"
    },
    {
     "data": {
      "image/png": "[encoded data removed]",
      "text/plain": [
       "<Figure size 432x288 with 1 Axes>"
      ]
     },
     "metadata": {},
     "output_type": "display_data"
    }
   ],
   "source": [
    "%matplotlib inline\n",
    "import matplotlib.pyplot as plt\n",
    "plt.style.use('seaborn-white')\n",
    "#T=np.linspace(-1,1,22)\n",
    "T = np.arange(-1., 1., 0.1)\n",
    "f=lambda x: 1/1+x**2\n",
    "plt.title (\"polynome de lagrange dans [-1:0.1:1] \");\n",
    "plt.xlabel (\"x\");\n",
    "plt.ylabel (\"f(x)\");\n",
    "plt.grid(True)\n",
    "plt.plot(T,f(T))"
   ]
  },
  {
   "cell_type": "markdown",
   "metadata": {},
   "source": [
    "## 4) On considère la fonction $F$ suivante :\n",
    "$$\n",
    "F(h) = \\pi -\\cos \\left(\\frac{h}{2}\\right) + h \\sqrt{1-\\left(\\frac{h}{2}\\right)^2}, \\qquad\n",
    "h\\in [0,2],\n",
    "$$\n",
    "et les points d'interpolation $x_i = ih$, $0\\leq i\\leq n$, avec $ n=20$ et $h=0.1$."
   ]
  },
  {
   "cell_type": "markdown",
   "metadata": {},
   "source": [
    "4.1) Représenter sur un même graphe la fonction $F$ et $p_n$, où\n",
    " $p_n$ est le polynôme d'interpolation de Lagrange de $F$ aux\n",
    " points $x_0,\\,\\ldots,\\,x_n$."
   ]
  },
  {
   "cell_type": "code",
   "execution_count": 252,
   "metadata": {},
   "outputs": [
    {
     "data": {
      "text/plain": [
       "[<matplotlib.lines.Line2D at 0xb831490>,\n",
       " <matplotlib.lines.Line2D at 0xb831590>,\n",
       " <matplotlib.lines.Line2D at 0xb831670>]"
      ]
     },
     "execution_count": 252,
     "metadata": {},
     "output_type": "execute_result"
    },
    {
     "data": {
      "image/png": "[encoded data removed]",
      "text/plain": [
       "<Figure size 432x288 with 1 Axes>"
      ]
     },
     "metadata": {},
     "output_type": "display_data"
    }
   ],
   "source": [
    "import math\n",
    "x=[0,2]\n",
    "#T=np.linspace(-1,1,22)\n",
    "T = np.arange(-1., 1., 0.1)\n",
    "f=lambda x: (math.pi)-(math.cos(x/2))+x*(math.sqrt(1-(x/2)**2))\n",
    "#on utilise np.vctorize pour que la fonction accepte une liste comme parametre \n",
    "f2 = np.vectorize(f)\n",
    "y = [f(a) for a in x]\n",
    "pn= []\n",
    "for u in range(0,len(T)):\n",
    "    pn.append(PR(x,y,T[u]))\n",
    "plt.plot(T,pn,'r',x,y,'bo',T,f2(T),'g')"
   ]
  },
  {
   "cell_type": "markdown",
   "metadata": {},
   "source": [
    "2)Tracer la courbe d'erreur  (la\n",
    " fonction $F-p_n$). Qu'observer vous."
   ]
  },
  {
   "cell_type": "code",
   "execution_count": 253,
   "metadata": {},
   "outputs": [
    {
     "data": {
      "text/plain": [
       "[<matplotlib.lines.Line2D at 0xb7f3570>]"
      ]
     },
     "execution_count": 253,
     "metadata": {},
     "output_type": "execute_result"
    },
    {
     "data": {
      "image/png": "[encoded data removed]",
      "text/plain": [
       "<Figure size 432x288 with 1 Axes>"
      ]
     },
     "metadata": {},
     "output_type": "display_data"
    }
   ],
   "source": [
    "x=[0,2]\n",
    "#T=np.linspace(-1,1,22)\n",
    "T = np.arange(-1., 1., 0.1)\n",
    "f=lambda x: (math.pi)-(math.cos(x/2))+x*(math.sqrt(1-(x/2)**2))\n",
    "f2 = np.vectorize(f)\n",
    "y = [f(a) for a in x]\n",
    "plt.title(\"la courbe d'erreur de la fonction\")\n",
    "pn= []\n",
    "for u in range(0,len(T)):\n",
    "    pn.append(PR(x,y,T[u]))\n",
    "plt.plot(T,f2(T)-pn,'r')"
   ]
  },
  {
   "cell_type": "markdown",
   "metadata": {},
   "source": [
    "> ###  <p style=\"color:#4287f5\" >Exercice 2 ( Phenomène de Runge )"
   ]
  },
  {
   "cell_type": "markdown",
   "metadata": {},
   "source": [
    ">> ## <p style=\"color:#028A93\"> Version PYTHON :</p> "
   ]
  },
  {
   "cell_type": "markdown",
   "metadata": {},
   "source": [
    "1) Vérifier que sur $[-5,5]$ le polynôme d'interpolation de Lagrange\n",
    "  de la fonction $f$ définie par $f(x)=\\displaystyle{\\frac{1}{1+x^2}}$,\n",
    "en $N$ points uniformément espacés ne convergent pas correctement aux voisinages de $-1$ et $1$, pour $N=7,8,9,10 ...$"
   ]
  },
  {
   "cell_type": "code",
   "execution_count": 254,
   "metadata": {},
   "outputs": [
    {
     "data": {
      "text/plain": [
       "Text(0.5, 1.0, 'Interpolation Equidistante avec N=10')"
      ]
     },
     "execution_count": 254,
     "metadata": {},
     "output_type": "execute_result"
    },
    {
     "data": {
      "image/png": "[encoded data removed]",
      "text/plain": [
       "<Figure size 432x288 with 4 Axes>"
      ]
     },
     "metadata": {},
     "output_type": "display_data"
    }
   ],
   "source": [
    "N=7\n",
    "X=np.linspace(-5,5,N)\n",
    "f=lambda x : 1/1+x**2\n",
    "f2=np.vectorize(f)\n",
    "Y= [f(a) for a in X]\n",
    "p = np.polyfit(X, Y, N-1)\n",
    "t=np.linspace(-5,5,1000)\n",
    "plt.subplot(2,2,1)\n",
    "plt.plot(t,f2(t),'r',X,Y,'ob',t,np.polyval(p,t),'g')\n",
    "plt.title(\"Interpolation Equidistante avec N=7\")\n",
    "####################################################\n",
    "N=8\n",
    "X=np.linspace(-5,5,N)\n",
    "f=lambda x : 1/1+x**2\n",
    "f2=np.vectorize(f)\n",
    "Y= [f(a) for a in X]\n",
    "p = np.polyfit(X, Y, N-1)\n",
    "t=np.linspace(-5,5,1000)\n",
    "plt.subplot(2,2,2)\n",
    "plt.plot(t,f2(t),'r',X,Y,'ob',t,np.polyval(p,t),'g')\n",
    "plt.title(\"Interpolation Equidistante avec N=8\")\n",
    "####################################################\n",
    "N=9\n",
    "X=np.linspace(-5,5,N)\n",
    "f=lambda x : 1/1+x**2\n",
    "f2=np.vectorize(f)\n",
    "Y= [f(a) for a in X]\n",
    "p = np.polyfit(X, Y, N-1)\n",
    "t=np.linspace(-5,5,1000)\n",
    "plt.subplot(2,2,3)\n",
    "plt.plot(t,f2(t),'r',X,Y,'ob',t,np.polyval(p,t),'g')\n",
    "plt.title(\"Interpolation Equidistante avec N=9\")\n",
    "####################################################\n",
    "N=10\n",
    "X=np.linspace(-5,5,N)\n",
    "f=lambda x : 1/1+x**2\n",
    "f2=np.vectorize(f)\n",
    "Y= [f(a) for a in X]\n",
    "p = np.polyfit(X, Y, N-1)\n",
    "t=np.linspace(-5,5,1000)\n",
    "plt.subplot(2,2,4)\n",
    "plt.plot(t,f2(t),'r',X,Y,'ob',t,np.polyval(p,t),'g')\n",
    "plt.title(\"Interpolation Equidistante avec N=10\")\n",
    "\n"
   ]
  },
  {
   "cell_type": "markdown",
   "metadata": {},
   "source": [
    "2) Les points de Tchebycheff sur un intervalle $[a;b]$ sont définie par :\n",
    "  $$x_k=\\dfrac{a+b}{2}+\\dfrac{a-b}{2}\\cos\\left(\\frac{k-1}{n-1}\\pi\\right)\\hspace{0.5cm} (k=1,..,n: x_1=a:x_n=b)$$\n",
    "\n",
    "  Vérifier que sur $[-5; 5]$ ; l'interpolation polynômiale de $f(x) = \\dfrac{1}{1 + x^2}$ ; en $N$ points de Tchebychev\n",
    "est meilleure qu'une  interpolation utilisant $N$ points uniforment espacés (on prendra $N=10, 11, 16, 17$)."
   ]
  },
  {
   "cell_type": "code",
   "execution_count": 1,
   "metadata": {},
   "outputs": [],
   "source": [
    "def tcheb(a,b,n):\n",
    "    v=[]\n",
    "    for k in range(0,n):\n",
    "        v.append((a+b)/2+(a-b)/2*math.cos((k-1)/(n-1)*math.pi))\n",
    "    return(v)\n"
   ]
  },
  {
   "cell_type": "code",
   "execution_count": 4,
   "metadata": {},
   "outputs": [
    {
     "ename": "NameError",
     "evalue": "name 'tcheb' is not defined",
     "output_type": "error",
     "traceback": [
      "\u001b[1;31m---------------------------------------------------------------------------\u001b[0m",
      "\u001b[1;31mNameError\u001b[0m                                 Traceback (most recent call last)",
      "\u001b[1;32m<ipython-input-4-937d21ac8fa3>\u001b[0m in \u001b[0;36m<module>\u001b[1;34m\u001b[0m\n\u001b[1;32m----> 1\u001b[1;33m \u001b[0mv\u001b[0m\u001b[1;33m=\u001b[0m\u001b[0mtcheb\u001b[0m\u001b[1;33m(\u001b[0m\u001b[1;33m-\u001b[0m\u001b[1;36m5\u001b[0m\u001b[1;33m,\u001b[0m\u001b[1;36m5\u001b[0m\u001b[1;33m,\u001b[0m\u001b[1;36m11\u001b[0m\u001b[1;33m)\u001b[0m\u001b[1;33m\u001b[0m\u001b[1;33m\u001b[0m\u001b[0m\n\u001b[0m\u001b[0;32m      2\u001b[0m \u001b[0mprint\u001b[0m\u001b[1;33m(\u001b[0m\u001b[0mv\u001b[0m\u001b[1;33m)\u001b[0m\u001b[1;33m\u001b[0m\u001b[1;33m\u001b[0m\u001b[0m\n",
      "\u001b[1;31mNameError\u001b[0m: name 'tcheb' is not defined"
     ]
    }
   ],
   "source": [
    "v=tcheb(-5,5,11)\n",
    "print(v)"
   ]
  },
  {
   "cell_type": "code",
   "execution_count": null,
   "metadata": {},
   "outputs": [],
   "source": [
    "N=10\n",
    "f=lambda x: 1/1+x**2\n",
    "Xt=tcheb(-5,5,N)\n",
    "f2=np.vectorize(f)\n",
    "Yt=f2(Xt)\n",
    "pt=np.polyfit(Xt,Yt,N-1)\n",
    "plt.subplot(2,2,1)\n",
    "plt.plot(t,f2(t),'r',Xt,Yt,'ob', t, np.polyval(pt,t),'g')\n",
    "plt.title(\"Interpolation Tchebycheff avec N=10\")\n",
    "##########################################\n",
    "N=11\n",
    "f=lambda x: 1/1+x**2\n",
    "Xt=tcheb(-5,5,N)\n",
    "f2=np.vectorize(f)\n",
    "Yt=f2(Xt)\n",
    "pt=np.polyfit(Xt,Yt,N-1)\n",
    "plt.subplot(2,2,2)\n",
    "plt.plot(t,f2(t),'r',Xt,Yt,'ob', t, np.polyval(pt,t),'g')\n",
    "plt.title(\"Interpolation Tchebycheff avec N=11\")\n",
    "##########################################\n",
    "N=16\n",
    "f=lambda x: 1/1+x**2\n",
    "Xt=tcheb(-5,5,N)\n",
    "f2=np.vectorize(f)\n",
    "Yt=f2(Xt)\n",
    "pt=np.polyfit(Xt,Yt,N-1)\n",
    "plt.subplot(2,2,3)\n",
    "plt.plot(t,f2(t),'r',Xt,Yt,'ob', t, np.polyval(pt,t),'g')\n",
    "plt.title(\"Interpolation Tchebycheff avec N=16\")\n",
    "##########################################\n",
    "N=17\n",
    "f=lambda x: 1/1+x**2\n",
    "Xt=tcheb(-5,5,N)\n",
    "f2=np.vectorize(f)\n",
    "Yt=f2(Xt)\n",
    "pt=np.polyfit(Xt,Yt,N-1)\n",
    "plt.subplot(2,2,4)\n",
    "plt.plot(t,f2(t),'r',Xt,Yt,'ob', t, np.polyval(pt,t),'g')\n",
    "plt.title(\"Interpolation Tchebycheff avec N=17\")\n",
    "##########################################"
   ]
  },
  {
   "cell_type": "code",
   "execution_count": null,
   "metadata": {},
   "outputs": [],
   "source": []
  },
  {
   "cell_type": "markdown",
   "metadata": {},
   "source": [
    "> ###  <p style=\"color:#4287f5\" >Exercice 3"
   ]
  },
  {
   "cell_type": "markdown",
   "metadata": {},
   "source": [
    "### <p style=\"color:#e320c2\" >Principe de la méthode Newton (ou de diff divisée) : </p>\n",
    "   \n",
    "   #### <p> théoreme </p> \n",
    "   \n",
    "   <p> soit $$f:[a , b]\\to \\mathbb{R}$$ soient x_0 ,...,x_n des point 2 a 2 distinsts . Alors le polynome d'inerpolation associé a f aux noeuds$$ x_0 \\to x_n$$ ets donné par :\n",
    "    $$P_n(x) = f[x_0]+f[x_0,x_1](x-x_0)+f[x_0,x_1,x_2](x-x_0)(x-x_1)+..+f[x_0,x_1,.,x_n](x-x_0)(x-x_1)..(x-x_n)$$"
   ]
  },
  {
   "cell_type": "markdown",
   "metadata": {},
   "source": [
    "On considère les deux programme MATLAB suivant :\n",
    "``` octave\n",
    "function f=intN(x,f)% RECURSIVE\n",
    "m=length(x);\n",
    "for k=2:m;\n",
    "    f(k:m)=(f(k:m)-f(k-1:m-1))./(x(k:m)-x(1:m+1-k))\n",
    "end\n",
    "``` \n",
    "``` octave\n",
    "function p=intNval(x,c,t)\n",
    "m=length(x);\n",
    "p=c(m)*ones(size(t));\n",
    "for k=m-1:-1:1;\n",
    "    p=p.*(t-x(k))+c(k);\n",
    "end\n",
    "```"
   ]
  },
  {
   "cell_type": "markdown",
   "metadata": {},
   "source": [
    ">> ## <p style=\"color:#028A93\"> Version PYTHON :</p> "
   ]
  },
  {
   "cell_type": "markdown",
   "metadata": {},
   "source": [
    "1) Déterminer en utilisant les deux codes puis par un calcul à la main le polynôme de Newton pour les données suivantes :\n",
    "\n",
    "\n",
    "<center>\n",
    "<table>    \n",
    "      $\\begin{array}{|c|c|c|}\n",
    "   \\hline\n",
    "   i & x_i  & y_i \\\\\n",
    "   \\hline\n",
    "   0 &   -1  &   6 \\\\\n",
    "   1 &   0 &  1 \\\\\n",
    "   2 &  2  &  3 \\\\\n",
    "   3 &  5  &  66 \\\\\n",
    "   \\hline\n",
    "\\end{array}$  \n",
    "</table>\n",
    "</center>"
   ]
  },
  {
   "cell_type": "markdown",
   "metadata": {},
   "source": []
  },
  {
   "cell_type": "code",
   "execution_count": 3,
   "metadata": {},
   "outputs": [],
   "source": [
    "def intN(x,y):\n",
    "    m=len(x)\n",
    "    f=[]\n",
    "    for k in range(2,m):\n",
    "        f[k].append((y[k]-y[k-1])/(x[k]-x[1:m+1-k]))\n",
    "    return(f)"
   ]
  },
  {
   "cell_type": "code",
   "execution_count": 4,
   "metadata": {},
   "outputs": [
    {
     "ename": "IndexError",
     "evalue": "list index out of range",
     "output_type": "error",
     "traceback": [
      "\u001b[1;31m---------------------------------------------------------------------------\u001b[0m",
      "\u001b[1;31mIndexError\u001b[0m                                Traceback (most recent call last)",
      "\u001b[1;32m<ipython-input-4-303be5d72120>\u001b[0m in \u001b[0;36m<module>\u001b[1;34m\u001b[0m\n\u001b[0;32m      1\u001b[0m \u001b[0mx\u001b[0m\u001b[1;33m=\u001b[0m\u001b[1;33m[\u001b[0m\u001b[1;33m-\u001b[0m\u001b[1;36m1\u001b[0m\u001b[1;33m,\u001b[0m\u001b[1;36m0\u001b[0m\u001b[1;33m,\u001b[0m\u001b[1;36m2\u001b[0m\u001b[1;33m,\u001b[0m\u001b[1;36m5\u001b[0m\u001b[1;33m]\u001b[0m\u001b[1;33m;\u001b[0m\u001b[1;33m\u001b[0m\u001b[1;33m\u001b[0m\u001b[0m\n\u001b[0;32m      2\u001b[0m \u001b[0my\u001b[0m\u001b[1;33m=\u001b[0m\u001b[1;33m[\u001b[0m\u001b[1;36m6\u001b[0m\u001b[1;33m,\u001b[0m\u001b[1;36m1\u001b[0m\u001b[1;33m,\u001b[0m\u001b[1;36m3\u001b[0m\u001b[1;33m,\u001b[0m\u001b[1;36m66\u001b[0m\u001b[1;33m]\u001b[0m\u001b[1;33m;\u001b[0m\u001b[1;33m\u001b[0m\u001b[1;33m\u001b[0m\u001b[0m\n\u001b[1;32m----> 3\u001b[1;33m \u001b[0mprint\u001b[0m\u001b[1;33m(\u001b[0m\u001b[0mintN\u001b[0m\u001b[1;33m(\u001b[0m\u001b[0mx\u001b[0m\u001b[1;33m,\u001b[0m\u001b[0my\u001b[0m\u001b[1;33m)\u001b[0m\u001b[1;33m)\u001b[0m\u001b[1;33m\u001b[0m\u001b[1;33m\u001b[0m\u001b[0m\n\u001b[0m",
      "\u001b[1;32m<ipython-input-3-e042380107fe>\u001b[0m in \u001b[0;36mintN\u001b[1;34m(x, y)\u001b[0m\n\u001b[0;32m      3\u001b[0m     \u001b[0mf\u001b[0m\u001b[1;33m=\u001b[0m\u001b[1;33m[\u001b[0m\u001b[1;33m]\u001b[0m\u001b[1;33m\u001b[0m\u001b[1;33m\u001b[0m\u001b[0m\n\u001b[0;32m      4\u001b[0m     \u001b[1;32mfor\u001b[0m \u001b[0mk\u001b[0m \u001b[1;32min\u001b[0m \u001b[0mrange\u001b[0m\u001b[1;33m(\u001b[0m\u001b[1;36m2\u001b[0m\u001b[1;33m,\u001b[0m\u001b[0mm\u001b[0m\u001b[1;33m)\u001b[0m\u001b[1;33m:\u001b[0m\u001b[1;33m\u001b[0m\u001b[1;33m\u001b[0m\u001b[0m\n\u001b[1;32m----> 5\u001b[1;33m         \u001b[0mf\u001b[0m\u001b[1;33m[\u001b[0m\u001b[0mk\u001b[0m\u001b[1;33m]\u001b[0m\u001b[1;33m.\u001b[0m\u001b[0mappend\u001b[0m\u001b[1;33m(\u001b[0m\u001b[1;33m(\u001b[0m\u001b[0my\u001b[0m\u001b[1;33m[\u001b[0m\u001b[0mk\u001b[0m\u001b[1;33m]\u001b[0m\u001b[1;33m-\u001b[0m\u001b[0my\u001b[0m\u001b[1;33m[\u001b[0m\u001b[0mk\u001b[0m\u001b[1;33m-\u001b[0m\u001b[1;36m1\u001b[0m\u001b[1;33m]\u001b[0m\u001b[1;33m)\u001b[0m\u001b[1;33m/\u001b[0m\u001b[1;33m(\u001b[0m\u001b[0mx\u001b[0m\u001b[1;33m[\u001b[0m\u001b[0mk\u001b[0m\u001b[1;33m]\u001b[0m\u001b[1;33m-\u001b[0m\u001b[0mx\u001b[0m\u001b[1;33m[\u001b[0m\u001b[1;36m1\u001b[0m\u001b[1;33m:\u001b[0m\u001b[0mm\u001b[0m\u001b[1;33m+\u001b[0m\u001b[1;36m1\u001b[0m\u001b[1;33m-\u001b[0m\u001b[0mk\u001b[0m\u001b[1;33m]\u001b[0m\u001b[1;33m)\u001b[0m\u001b[1;33m)\u001b[0m\u001b[1;33m\u001b[0m\u001b[1;33m\u001b[0m\u001b[0m\n\u001b[0m\u001b[0;32m      6\u001b[0m     \u001b[1;32mreturn\u001b[0m\u001b[1;33m(\u001b[0m\u001b[0mf\u001b[0m\u001b[1;33m)\u001b[0m\u001b[1;33m\u001b[0m\u001b[1;33m\u001b[0m\u001b[0m\n",
      "\u001b[1;31mIndexError\u001b[0m: list index out of range"
     ]
    }
   ],
   "source": [
    "x=[-1,0,2,5];\n",
    "y=[6,1,3,66];\n",
    "print(intN(x,y))"
   ]
  },
  {
   "cell_type": "code",
   "execution_count": null,
   "metadata": {},
   "outputs": [],
   "source": []
  },
  {
   "cell_type": "code",
   "execution_count": 5,
   "metadata": {},
   "outputs": [],
   "source": [
    "def intNval(x,y,t):\n",
    "    m=len(x)\n",
    "    p=y[m-1]*np.ones(np.size(t))\n",
    "    for k in range(m-1,-1,1):\n",
    "        p=p*(t-x[k])+y[k]\n",
    "    return(p)"
   ]
  },
  {
   "cell_type": "code",
   "execution_count": 5,
   "metadata": {},
   "outputs": [
    {
     "ename": "NameError",
     "evalue": "name 'intNval' is not defined",
     "output_type": "error",
     "traceback": [
      "\u001b[1;31m---------------------------------------------------------------------------\u001b[0m",
      "\u001b[1;31mNameError\u001b[0m                                 Traceback (most recent call last)",
      "\u001b[1;32m<ipython-input-5-954d87ab0668>\u001b[0m in \u001b[0;36m<module>\u001b[1;34m\u001b[0m\n\u001b[0;32m      2\u001b[0m \u001b[0my\u001b[0m\u001b[1;33m=\u001b[0m\u001b[1;33m[\u001b[0m\u001b[1;36m6\u001b[0m\u001b[1;33m,\u001b[0m\u001b[1;36m1\u001b[0m\u001b[1;33m,\u001b[0m\u001b[1;36m3\u001b[0m\u001b[1;33m,\u001b[0m\u001b[1;36m66\u001b[0m\u001b[1;33m]\u001b[0m\u001b[1;33m;\u001b[0m\u001b[1;33m\u001b[0m\u001b[1;33m\u001b[0m\u001b[0m\n\u001b[0;32m      3\u001b[0m \u001b[0mt\u001b[0m\u001b[1;33m=\u001b[0m\u001b[1;33m[\u001b[0m\u001b[1;36m0\u001b[0m\u001b[1;33m,\u001b[0m\u001b[1;36m1\u001b[0m\u001b[1;33m,\u001b[0m\u001b[1;36m2\u001b[0m\u001b[1;33m,\u001b[0m\u001b[1;36m3\u001b[0m\u001b[1;33m]\u001b[0m\u001b[1;33m;\u001b[0m\u001b[1;33m\u001b[0m\u001b[1;33m\u001b[0m\u001b[0m\n\u001b[1;32m----> 4\u001b[1;33m \u001b[0mprint\u001b[0m\u001b[1;33m(\u001b[0m\u001b[0mintNval\u001b[0m\u001b[1;33m(\u001b[0m\u001b[0mx\u001b[0m\u001b[1;33m,\u001b[0m\u001b[0my\u001b[0m\u001b[1;33m,\u001b[0m\u001b[0mt\u001b[0m\u001b[1;33m)\u001b[0m\u001b[1;33m)\u001b[0m\u001b[1;33m\u001b[0m\u001b[1;33m\u001b[0m\u001b[0m\n\u001b[0m",
      "\u001b[1;31mNameError\u001b[0m: name 'intNval' is not defined"
     ]
    }
   ],
   "source": [
    "x=[-1,0,2,5];\n",
    "y=[6,1,3,66];\n",
    "t=[0,1,2,3];\n",
    "print(intNval(x,y,t))"
   ]
  },
  {
   "cell_type": "markdown",
   "metadata": {},
   "source": [
    "## Calcul a la main"
   ]
  },
  {
   "cell_type": "markdown",
   "metadata": {},
   "source": [
    "Daprés le calcule a la main le polynome de newton est le suivant :\n",
    "$f(x) =1+\\dfrac{82}{18}x+\\dfrac{64}{18}x^2+\\dfrac{28}{18}x^3 $\n"
   ]
  },
  {
   "cell_type": "markdown",
   "metadata": {},
   "source": [
    "2) Donner le Graph du polynôme trouvé en 1) dans l'intervalle $[-1;5]$."
   ]
  },
  {
   "cell_type": "code",
   "execution_count": 7,
   "metadata": {},
   "outputs": [
    {
     "ename": "IndexError",
     "evalue": "list index out of range",
     "output_type": "error",
     "traceback": [
      "\u001b[1;31m---------------------------------------------------------------------------\u001b[0m",
      "\u001b[1;31mIndexError\u001b[0m                                Traceback (most recent call last)",
      "\u001b[1;32m<ipython-input-7-e10ba4bb7d52>\u001b[0m in \u001b[0;36m<module>\u001b[1;34m\u001b[0m\n\u001b[0;32m      1\u001b[0m \u001b[0mx\u001b[0m\u001b[1;33m=\u001b[0m\u001b[1;33m[\u001b[0m\u001b[1;33m-\u001b[0m\u001b[1;36m1\u001b[0m\u001b[1;33m,\u001b[0m\u001b[1;36m0\u001b[0m\u001b[1;33m,\u001b[0m\u001b[1;36m2\u001b[0m\u001b[1;33m,\u001b[0m\u001b[1;36m5\u001b[0m\u001b[1;33m]\u001b[0m\u001b[1;33m;\u001b[0m\u001b[1;33m\u001b[0m\u001b[1;33m\u001b[0m\u001b[0m\n\u001b[0;32m      2\u001b[0m \u001b[0my\u001b[0m\u001b[1;33m=\u001b[0m\u001b[1;33m[\u001b[0m\u001b[1;36m6\u001b[0m\u001b[1;33m,\u001b[0m\u001b[1;36m1\u001b[0m\u001b[1;33m,\u001b[0m\u001b[1;36m3\u001b[0m\u001b[1;33m,\u001b[0m\u001b[1;36m66\u001b[0m\u001b[1;33m]\u001b[0m\u001b[1;33m;\u001b[0m\u001b[1;33m\u001b[0m\u001b[1;33m\u001b[0m\u001b[0m\n\u001b[1;32m----> 3\u001b[1;33m \u001b[0mf\u001b[0m\u001b[1;33m=\u001b[0m\u001b[0mintN\u001b[0m\u001b[1;33m(\u001b[0m\u001b[0mx\u001b[0m\u001b[1;33m,\u001b[0m\u001b[0my\u001b[0m\u001b[1;33m)\u001b[0m\u001b[1;33m;\u001b[0m\u001b[1;33m\u001b[0m\u001b[1;33m\u001b[0m\u001b[0m\n\u001b[0m\u001b[0;32m      4\u001b[0m \u001b[0mf2\u001b[0m\u001b[1;33m=\u001b[0m\u001b[0mnp\u001b[0m\u001b[1;33m.\u001b[0m\u001b[0mvectorize\u001b[0m\u001b[1;33m(\u001b[0m\u001b[0mf\u001b[0m\u001b[1;33m)\u001b[0m\u001b[1;33m\u001b[0m\u001b[1;33m\u001b[0m\u001b[0m\n\u001b[0;32m      5\u001b[0m \u001b[0mplt\u001b[0m\u001b[1;33m.\u001b[0m\u001b[0mplot\u001b[0m\u001b[1;33m(\u001b[0m\u001b[0mx\u001b[0m\u001b[1;33m,\u001b[0m\u001b[0mf2\u001b[0m\u001b[1;33m,\u001b[0m\u001b[1;34m'r'\u001b[0m\u001b[1;33m,\u001b[0m\u001b[0mx\u001b[0m\u001b[1;33m,\u001b[0m\u001b[0my\u001b[0m\u001b[1;33m,\u001b[0m\u001b[1;34m'ob'\u001b[0m\u001b[1;33m)\u001b[0m\u001b[1;33m\u001b[0m\u001b[1;33m\u001b[0m\u001b[0m\n",
      "\u001b[1;32m<ipython-input-3-e042380107fe>\u001b[0m in \u001b[0;36mintN\u001b[1;34m(x, y)\u001b[0m\n\u001b[0;32m      3\u001b[0m     \u001b[0mf\u001b[0m\u001b[1;33m=\u001b[0m\u001b[1;33m[\u001b[0m\u001b[1;33m]\u001b[0m\u001b[1;33m\u001b[0m\u001b[1;33m\u001b[0m\u001b[0m\n\u001b[0;32m      4\u001b[0m     \u001b[1;32mfor\u001b[0m \u001b[0mk\u001b[0m \u001b[1;32min\u001b[0m \u001b[0mrange\u001b[0m\u001b[1;33m(\u001b[0m\u001b[1;36m2\u001b[0m\u001b[1;33m,\u001b[0m\u001b[0mm\u001b[0m\u001b[1;33m)\u001b[0m\u001b[1;33m:\u001b[0m\u001b[1;33m\u001b[0m\u001b[1;33m\u001b[0m\u001b[0m\n\u001b[1;32m----> 5\u001b[1;33m         \u001b[0mf\u001b[0m\u001b[1;33m[\u001b[0m\u001b[0mk\u001b[0m\u001b[1;33m]\u001b[0m\u001b[1;33m.\u001b[0m\u001b[0mappend\u001b[0m\u001b[1;33m(\u001b[0m\u001b[1;33m(\u001b[0m\u001b[0my\u001b[0m\u001b[1;33m[\u001b[0m\u001b[0mk\u001b[0m\u001b[1;33m]\u001b[0m\u001b[1;33m-\u001b[0m\u001b[0my\u001b[0m\u001b[1;33m[\u001b[0m\u001b[0mk\u001b[0m\u001b[1;33m-\u001b[0m\u001b[1;36m1\u001b[0m\u001b[1;33m]\u001b[0m\u001b[1;33m)\u001b[0m\u001b[1;33m/\u001b[0m\u001b[1;33m(\u001b[0m\u001b[0mx\u001b[0m\u001b[1;33m[\u001b[0m\u001b[0mk\u001b[0m\u001b[1;33m]\u001b[0m\u001b[1;33m-\u001b[0m\u001b[0mx\u001b[0m\u001b[1;33m[\u001b[0m\u001b[1;36m1\u001b[0m\u001b[1;33m:\u001b[0m\u001b[0mm\u001b[0m\u001b[1;33m+\u001b[0m\u001b[1;36m1\u001b[0m\u001b[1;33m-\u001b[0m\u001b[0mk\u001b[0m\u001b[1;33m]\u001b[0m\u001b[1;33m)\u001b[0m\u001b[1;33m)\u001b[0m\u001b[1;33m\u001b[0m\u001b[1;33m\u001b[0m\u001b[0m\n\u001b[0m\u001b[0;32m      6\u001b[0m     \u001b[1;32mreturn\u001b[0m\u001b[1;33m(\u001b[0m\u001b[0mf\u001b[0m\u001b[1;33m)\u001b[0m\u001b[1;33m\u001b[0m\u001b[1;33m\u001b[0m\u001b[0m\n",
      "\u001b[1;31mIndexError\u001b[0m: list index out of range"
     ]
    }
   ],
   "source": [
    "x=[-1,0,2,5];\n",
    "y=[6,1,3,66];\n",
    "f=intN(x,y);\n",
    "f2=np.vectorize(f)\n",
    "plt.plot(x,f2,'r',x,y,'ob')"
   ]
  },
  {
   "cell_type": "code",
   "execution_count": null,
   "metadata": {},
   "outputs": [],
   "source": []
  },
  {
   "cell_type": "markdown",
   "metadata": {},
   "source": [
    "3) Calculer $P(1)$ en utilisant le polynôme trouvé en 1)."
   ]
  },
  {
   "cell_type": "code",
   "execution_count": 6,
   "metadata": {},
   "outputs": [
    {
     "ename": "NameError",
     "evalue": "name 'intNval' is not defined",
     "output_type": "error",
     "traceback": [
      "\u001b[1;31m---------------------------------------------------------------------------\u001b[0m",
      "\u001b[1;31mNameError\u001b[0m                                 Traceback (most recent call last)",
      "\u001b[1;32m<ipython-input-6-218c638e095c>\u001b[0m in \u001b[0;36m<module>\u001b[1;34m\u001b[0m\n\u001b[0;32m      2\u001b[0m \u001b[0my\u001b[0m\u001b[1;33m=\u001b[0m\u001b[1;33m[\u001b[0m\u001b[1;36m6\u001b[0m\u001b[1;33m,\u001b[0m\u001b[1;36m1\u001b[0m\u001b[1;33m,\u001b[0m\u001b[1;36m3\u001b[0m\u001b[1;33m,\u001b[0m\u001b[1;36m66\u001b[0m\u001b[1;33m]\u001b[0m\u001b[1;33m;\u001b[0m\u001b[1;33m\u001b[0m\u001b[1;33m\u001b[0m\u001b[0m\n\u001b[0;32m      3\u001b[0m \u001b[0mt\u001b[0m\u001b[1;33m=\u001b[0m\u001b[1;33m[\u001b[0m\u001b[1;36m0\u001b[0m\u001b[1;33m,\u001b[0m\u001b[1;36m1\u001b[0m\u001b[1;33m,\u001b[0m\u001b[1;36m2\u001b[0m\u001b[1;33m,\u001b[0m\u001b[1;36m3\u001b[0m\u001b[1;33m]\u001b[0m\u001b[1;33m;\u001b[0m\u001b[1;33m\u001b[0m\u001b[1;33m\u001b[0m\u001b[0m\n\u001b[1;32m----> 4\u001b[1;33m \u001b[0mp\u001b[0m\u001b[1;33m=\u001b[0m\u001b[0mintNval\u001b[0m\u001b[1;33m(\u001b[0m\u001b[0mx\u001b[0m\u001b[1;33m,\u001b[0m\u001b[0my\u001b[0m\u001b[1;33m,\u001b[0m\u001b[0mt\u001b[0m\u001b[1;33m)\u001b[0m\u001b[1;33m;\u001b[0m\u001b[1;33m\u001b[0m\u001b[1;33m\u001b[0m\u001b[0m\n\u001b[0m\u001b[0;32m      5\u001b[0m \u001b[0mp\u001b[0m\u001b[1;33m(\u001b[0m\u001b[1;36m1\u001b[0m\u001b[1;33m)\u001b[0m\u001b[1;33m\u001b[0m\u001b[1;33m\u001b[0m\u001b[0m\n",
      "\u001b[1;31mNameError\u001b[0m: name 'intNval' is not defined"
     ]
    }
   ],
   "source": [
    "x=[-1,0,2,5];\n",
    "y=[6,1,3,66];\n",
    "t=[0,1,2,3];\n",
    "p=intNval(x,y,t);\n",
    "p(1)"
   ]
  },
  {
   "cell_type": "code",
   "execution_count": null,
   "metadata": {},
   "outputs": [],
   "source": []
  },
  {
   "cell_type": "code",
   "execution_count": null,
   "metadata": {},
   "outputs": [],
   "source": []
  },
  {
   "cell_type": "code",
   "execution_count": null,
   "metadata": {},
   "outputs": [],
   "source": []
  },
  {
   "cell_type": "code",
   "execution_count": null,
   "metadata": {},
   "outputs": [],
   "source": []
  },
  {
   "cell_type": "code",
   "execution_count": null,
   "metadata": {},
   "outputs": [],
   "source": []
  },
  {
   "cell_type": "code",
   "execution_count": null,
   "metadata": {},
   "outputs": [],
   "source": []
  }
 ],
 "metadata": {
  "kernelspec": {
   "display_name": "Python 3",
   "language": "python",
   "name": "python3"
  },
  "language_info": {
   "codemirror_mode": {
    "name": "ipython",
    "version": 3
   },
   "file_extension": ".py",
   "mimetype": "text/x-python",
   "name": "python",
   "nbconvert_exporter": "python",
   "pygments_lexer": "ipython3",
   "version": "3.7.9"
  }
 },
 "nbformat": 4,
 "nbformat_minor": 2
}
